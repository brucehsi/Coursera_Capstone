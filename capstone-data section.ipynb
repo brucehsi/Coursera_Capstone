{
    "cells": [
        {
            "cell_type": "markdown",
            "metadata": {
                "collapsed": true
            },
            "source": "# 2. Data acquisition and cleaning  \n## 2.1 Data sources  \nThe data is originally from Seattle Department of Transportation (SDOT), which covers the collision happened in Seattle from 2004-01-01 to 2020-05-20, each case is labeled with a severity code, and contains a variety of attributes of the case. \nThere is also a explaination document \"Metadata\" for the meaning of each column.  \n## 2.2 Data cleaning  & Feature selection\nBy checking with missing data in the list, we can find there are several columns missing a large number of values. But before removing any rows or columns, it's better to understand the meaning of each column. Since if one column is not suitable or necessary to be kept as a feature, then any missing value in that column doesn't matter at all.  \n  \nSo that we can start by reading the file \"Metadata\" to rule out unnecessary columns first, then deal with missing values in the remaining columns. It\u2019s easy to find out that a couple of the columns are duplicated peers such as \u201cSEVERITYCODE\u201d and \u201cSEVERITYDESC\u201d, they are actually equal to each other; or some are identifications of a case, such as \u201cOBJECTID\u201d, \u201cINCKEY\u201d and so on, those columns should just be excluded from the data set.  \n  \nAnd there are three columns which are quite interesting, \"INJURIES\", \"SERIOUSINJURIES\" and \"FATALITIES\". After a quick analysis, it's easy to find that there is a strong logic between these columns and the label \"SEVERITYCODE\". Where the one-hot logics are like this: code-1=000, code-2=100, code-2b=x10, code-3=xx1 (code-0 shall be dropped). But a couple of exceptions of code-2b are found having the combination of \u201cx00\u201d, while I also noticed that for these samples, it says \u201cUnmatched\u201d in column \u201cSTATUS\u201d. So that, in conclusion, it should be reasonable to drop all these columns, since they play like dummies to the labels. And all rows marked as \u201cUnmatched\u201d shall also be dropped before column drops.\n***\n| Column to be dropped          | Reason to drop                  |\n| :-----                        | :---------------                |\n| X                             | not explained in Metadata       |\n| Y                             | not explained in Metadata       |\n| OBJECTID                      | case id, no meaning             |\n| INCKEY                        | case id, no meaning             |\n| COLDETKEY                        | case id, no meaning             |\n| REPORTNO                      | case id, no meaning             |\n| STATUS                        | drop \"Unmatched\" rows first, then drop the column       |\n| INTKEY                        | a combination of other columns  |\n| LOCATION                      | too detailed address info       |\n| EXCEPTRSNCODE                 | not explained in Metadata       |\n| EXCEPTRSNDESC                 | not explained in Metadata       |\n| SEVERITYDESC                  | duplicated column               |\n| INCDATE                  | duplicated column               |\n| SDOT_COLDESC                  | duplicated column               |\n| SDOTCOLNUM                    | case id, no meaning             |\n| ST_COLDESC                    | duplicated column               |\n| SEGLANEKEY                    | too many missing values, and meaning is unclear         |\n| CROSSWALKKEY                  | too many missing values, and meaning is unclear         |\n| INJURIES                  | dummy column        | \n| SERIOUSINJURIES                  | dummy column         | \n| FATALITIES                  | dummy column         | \n  \n\nFor a better understanding of missing data of remaining columns, replace empty value with \"N\" in column \"INATTENTIONIND\", \"PEDROWNOTGRNT\" and \"SPEEDING\" as only \"Y\" is marked out in the columns. In column \"UNDERINFL\" there are both \"Y/N\" and \"1/0\", for standardization, replace \"Y/N\" into \"1/0\" respectively. Now we can drop entitle rows with missing value in any column. \n  \nThe next step of data cleaning is to do some conversion of certain values for standardization: format \"INCDTTM\" into datetime and rename as \"DATETIME\", replace \"Y/N\" into \"1/0\" in column \"INATTENTIONIND\", \"PEDROWNOTGRNT\" and \"SPEEDING\".  \n  \n\n## 2.3 Data balancing  \nThere are 4 labels (categories) in the dataset (1,2,2b,3), but the number of samples within each category are not balanced as the statistics shows:  \n***\n1--------127280  \n2--------57162  \n2b-------3014  \n3--------337   \n  \nIf all categories are to be used as individual label with balanced samples, then the result will be around 300 from each category and 1200 in total. But if comparing to the size of the original data, that\u2019s quite a waste. Instead, we can consider to bin them into two categories as \u201dInjured\u201d and \u201cNot Injured\u201d for reasons:\n1.\tAlthough 2, 2b, 3 have different meanings, but they all can be considered as \u201chuman injury\u201d, which in real life always mean involvement of more public departments; while if there is no injury, most of the cases will be much easier to handle.\n2.\tBy converting into a binary classification problem, more classifier models can be applied, other than being limited with logistic regression.\n  \nWhile the original list contains data ranging from year 2004 to 2020, it might not be necessary to keep all of them. Since the traffic condition and vehicle technology have been changed quite a lot, data from a long time ago may not be able to correctly reflect current situations, and plus that there are enough samples. We can only keep the latest at around 20% of total samples, sort the data by \u201cDATETIME\u201d in descending order and then keep the top 30000 rows.  \n"
        },
        {
            "cell_type": "code",
            "execution_count": null,
            "metadata": {},
            "outputs": [],
            "source": ""
        }
    ],
    "metadata": {
        "kernelspec": {
            "display_name": "Python 3.6",
            "language": "python",
            "name": "python3"
        },
        "language_info": {
            "codemirror_mode": {
                "name": "ipython",
                "version": 3
            },
            "file_extension": ".py",
            "mimetype": "text/x-python",
            "name": "python",
            "nbconvert_exporter": "python",
            "pygments_lexer": "ipython3",
            "version": "3.6.9"
        }
    },
    "nbformat": 4,
    "nbformat_minor": 1
}