{
    "cells": [
        {
            "cell_type": "markdown",
            "metadata": {
                "collapsed": true
            },
            "source": "# 1. Introduction"
        },
        {
            "cell_type": "markdown",
            "metadata": {},
            "source": "## 1.1 Background"
        },
        {
            "cell_type": "markdown",
            "metadata": {},
            "source": "An accident on the road is inevitable, it will of course bring trouble or damage to the people directly involved, or even worse. While it will also cause problem to other participants in the traffic (i.e. a big jam), but for those people it\u2019s still possible to avoid negative impact if they can be warned beforehand.   \nA prediction on the severity of an accident popped out could be such a warning, which can help other drivers to decide on whether to change their route or not. Since changing the route also costs extra resources, a reasonable choice is to re-route in face of a \u201cbig\u201d accident, while keeping on current track if it\u2019s only a \u201csmall\u201d one as it may be settled in a relatively short time.\n"
        },
        {
            "cell_type": "markdown",
            "metadata": {},
            "source": "## 1.2 Problem"
        },
        {
            "cell_type": "markdown",
            "metadata": {},
            "source": "Then the problem now is how to predict the severity of an accident. Things which may have an influence on that can be the weather condition, light condition, road condition, etc.; day of the year, time of the day, and the location could also worth an investigation.   \nThe target of this project is to find out features which have the most influence on the severity, and train a model to predict the severity of future accidents."
        },
        {
            "cell_type": "markdown",
            "metadata": {},
            "source": "## 1.3 Interest"
        },
        {
            "cell_type": "markdown",
            "metadata": {},
            "source": "The result of the prediction can be integrated into an on-board GPS application, on receiving necessary information of an accident, a prediction of the severity will be given. For a severe accident, the GPS app shall automatically re-route and push to the driver as preferred choice; for a less severe one, only to remind the driver and re-route on demand. And maybe this information could also be sent to a traffic control system, where the traffic heading into the accident location can be adjusted by the traffic lights. "
        },
        {
            "cell_type": "code",
            "execution_count": null,
            "metadata": {},
            "outputs": [],
            "source": ""
        }
    ],
    "metadata": {
        "kernelspec": {
            "display_name": "Python 3.6",
            "language": "python",
            "name": "python3"
        },
        "language_info": {
            "codemirror_mode": {
                "name": "ipython",
                "version": 3
            },
            "file_extension": ".py",
            "mimetype": "text/x-python",
            "name": "python",
            "nbconvert_exporter": "python",
            "pygments_lexer": "ipython3",
            "version": "3.6.9"
        }
    },
    "nbformat": 4,
    "nbformat_minor": 1
}