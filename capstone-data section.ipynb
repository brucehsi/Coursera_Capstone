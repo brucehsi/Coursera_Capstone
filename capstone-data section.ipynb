{
    "cells": [
        {
            "cell_type": "markdown",
            "metadata": {
                "collapsed": true
            },
            "source": "# 2. Data acquisition and cleaning  \n## 2.1 Data sources  \nThe data is originally from Seattle Department of Transportation (SDOT), which covers the collision happened in Seattle from 2004-01-01 to 2020-05-20, each case is labeled with a severity code, and contains a variety of attributes of the case. \nThere is also a explaination document \"Metadata\" for the meaning of each column.  \n## 2.2 Data cleaning  \nBy checking with missing data in the list, we can find there are several columns missing a large number of values. But before removing any rows or columns, it's better to understand the meaning of each column. Since if one column is not suitable or necessary to be kept as a feature, then any missing value in that column doesn't matter at all.  \n  \nSo that we can start by reading the file \"Metadata\" to rule out unnecessary columns first, then deal with missing values in the remaining columns. It\u2019s easy to find out that a couple of the columns are duplicated peers such as \u201cSEVERITYCODE\u201d and \u201cSEVERITYDESC\u201d, they are actually equal to each other; or some are identifications of a case, such as \u201cOBJECTID\u201d, \u201cINCKEY\u201d and so on. Those columns should just be excluded from the data set, a complete list and reason as below:  \n***\n| Column to be dropped          | Reason to drop                  |\n| :-----                        | :---------------                |\n| X                             | not explained in Metadata       |\n| Y                             | not explained in Metadata       |\n| OBJECTID                      | case id, no meaning             |\n| INCKEY                        | case id, no meaning             |\n| REPORTNO                      | case id, no meaning             |\n| STATUS                        | not explained in Metadata       |\n| INTKEY                        | a combination of other columns  |\n| LOCATION                      | too detailed address info       |\n| EXCEPTRSNCODE                 | not explained in Metadata       |\n| EXCEPTRSNDESC                 | not explained in Metadata       |\n| SEVERITYCODE                  | duplicated column               |\n| SEVERITYDESC                  | duplicated column               |\n| SDOT_COLDESC                  | duplicated column               |\n| SDOTCOLNUM                    | case id, no meaning             |\n| ST_COLDESC                    | duplicated column               |\n| SEGLANEKEY                    | too many missing values, and meaning is unclear         |\n| CROSSWALKKEY                  | too many missing values, and meaning is unclear         |  \n  \nFor a better understanding of missing data of remaining columns, replace empty value with \"N\" in column \"INATTENTIONIND\", \"PEDROWNOTGRNT\" and \"SPEEDING\". In column \"UNDERINFL\" there are both \"Y/N\" and \"1/0\", for standardzation, replace \"Y/N\" into \"1/0\" respectively.Now we can drop entile rows with missing value in any cloumn. After data cleaning, data size ends up at 182895 rows by 22 columns (including the label column).\n\n## 2.3 Feature selection  \ntext\n\n## 2.3 Data balancing  \ntext  "
        },
        {
            "cell_type": "code",
            "execution_count": null,
            "metadata": {},
            "outputs": [],
            "source": ""
        }
    ],
    "metadata": {
        "kernelspec": {
            "display_name": "Python 3.6",
            "language": "python",
            "name": "python3"
        },
        "language_info": {
            "codemirror_mode": {
                "name": "ipython",
                "version": 3
            },
            "file_extension": ".py",
            "mimetype": "text/x-python",
            "name": "python",
            "nbconvert_exporter": "python",
            "pygments_lexer": "ipython3",
            "version": "3.6.9"
        }
    },
    "nbformat": 4,
    "nbformat_minor": 1
}